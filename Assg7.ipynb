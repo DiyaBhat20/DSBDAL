{
  "nbformat": 4,
  "nbformat_minor": 0,
  "metadata": {
    "colab": {
      "provenance": []
    },
    "kernelspec": {
      "name": "python3",
      "display_name": "Python 3"
    },
    "language_info": {
      "name": "python"
    }
  },
  "cells": [
    {
      "cell_type": "code",
      "execution_count": null,
      "metadata": {
        "colab": {
          "base_uri": "https://localhost:8080/"
        },
        "id": "xFVtw5ehbV8x",
        "outputId": "3901b815-9ea7-40b1-c924-3278886a8c94"
      },
      "outputs": [
        {
          "output_type": "stream",
          "name": "stderr",
          "text": [
            "[nltk_data] Downloading package punkt_tab to /root/nltk_data...\n",
            "[nltk_data]   Package punkt_tab is already up-to-date!\n",
            "[nltk_data] Downloading package stopwords to /root/nltk_data...\n",
            "[nltk_data]   Package stopwords is already up-to-date!\n",
            "[nltk_data] Downloading package wordnet to /root/nltk_data...\n",
            "[nltk_data]   Package wordnet is already up-to-date!\n",
            "[nltk_data] Downloading package averaged_perceptron_tagger to\n",
            "[nltk_data]     /root/nltk_data...\n",
            "[nltk_data]   Package averaged_perceptron_tagger is already up-to-\n",
            "[nltk_data]       date!\n",
            "[nltk_data] Downloading package averaged_perceptron_tagger_eng to\n",
            "[nltk_data]     /root/nltk_data...\n",
            "[nltk_data]   Unzipping taggers/averaged_perceptron_tagger_eng.zip.\n"
          ]
        },
        {
          "output_type": "execute_result",
          "data": {
            "text/plain": [
              "True"
            ]
          },
          "metadata": {},
          "execution_count": 28
        }
      ],
      "source": [
        "'''\n",
        "1. Extract Sample document and apply following document\n",
        "preprocessing methods: Tokenization, POS Tagging, stop\n",
        "words removal, Stemming and Lemmatization.\n",
        " 2. Create representation of document by calculating Term\n",
        "Frequency and Inverse Document Frequency.\n",
        "'''\n",
        "\n",
        "import nltk\n",
        "import re\n",
        "\n",
        "nltk.download('punkt_tab')\n",
        "nltk.download('stopwords')\n",
        "nltk.download('wordnet')\n",
        "nltk.download('averaged_perceptron_tagger')\n",
        "nltk.download('averaged_perceptron_tagger_eng')"
      ]
    },
    {
      "cell_type": "code",
      "source": [
        "text= \"Tokenization is the first step in text analytics. The process of breaking down a text paragraph into smaller chunks such as words or sentences is called Tokenization.\"\n",
        "\n",
        "'''\n",
        "To read from file-\n",
        "with open(\"/content/data.txt\",\"r\") as file:\n",
        "  text = file.read()\n",
        "print(text)\n",
        "'''"
      ],
      "metadata": {
        "id": "ko3rih0TgeTh"
      },
      "execution_count": null,
      "outputs": []
    },
    {
      "cell_type": "code",
      "source": [
        "#Sentence Tokenization\n",
        "from nltk.tokenize import sent_tokenize\n",
        "tokenized_text=sent_tokenize(text)\n",
        "print(tokenized_text)"
      ],
      "metadata": {
        "colab": {
          "base_uri": "https://localhost:8080/"
        },
        "id": "qRpB-LKmgvPx",
        "outputId": "99e12f11-db20-48f9-fd4f-dcc39ff62ba1"
      },
      "execution_count": null,
      "outputs": [
        {
          "output_type": "stream",
          "name": "stdout",
          "text": [
            "['Tokenization is the first step in text analytics.', 'The process of breaking down a text paragraph into smaller chunks such as words or sentences is called Tokenization.']\n"
          ]
        }
      ]
    },
    {
      "cell_type": "code",
      "source": [
        "#Word Tokenization\n",
        "from nltk.tokenize import word_tokenize\n",
        "tokenized_words=word_tokenize(text)\n",
        "print(tokenized_words)"
      ],
      "metadata": {
        "colab": {
          "base_uri": "https://localhost:8080/"
        },
        "id": "idPkbqUUhTHq",
        "outputId": "13c96cc2-0f90-4735-cbe4-87a50fbd116f"
      },
      "execution_count": null,
      "outputs": [
        {
          "output_type": "stream",
          "name": "stdout",
          "text": [
            "['Tokenization', 'is', 'the', 'first', 'step', 'in', 'text', 'analytics', '.', 'The', 'process', 'of', 'breaking', 'down', 'a', 'text', 'paragraph', 'into', 'smaller', 'chunks', 'such', 'as', 'words', 'or', 'sentences', 'is', 'called', 'Tokenization', '.']\n"
          ]
        }
      ]
    },
    {
      "cell_type": "code",
      "source": [
        "#Stop Words Removal\n",
        "from nltk.corpus import stopwords\n",
        "stop_words=set(stopwords.words(\"english\"))\n",
        "print(stop_words)"
      ],
      "metadata": {
        "colab": {
          "base_uri": "https://localhost:8080/"
        },
        "id": "NKeLgi2bhgmG",
        "outputId": "8ecd7206-6578-4450-9395-28fb4ef29b8d"
      },
      "execution_count": null,
      "outputs": [
        {
          "output_type": "stream",
          "name": "stdout",
          "text": [
            "{'who', 'm', \"aren't\", \"we've\", 'we', \"that'll\", 'she', \"we'd\", 'at', 'can', 'and', 'ourselves', 'mustn', \"hasn't\", 'up', 'has', 'after', 'doing', 'theirs', 'wasn', 'but', 'myself', 'why', 'because', 'only', \"won't\", 'mightn', \"i'd\", 'o', 'hasn', \"they're\", \"you've\", 'been', 'its', 'of', 'same', 'my', 'yourself', \"mustn't\", 'nor', 'as', \"he's\", 'it', 'shan', 'some', 'd', \"shan't\", 'those', 'don', 'if', 'there', 'you', \"shouldn't\", 'by', \"needn't\", 'that', \"he'll\", 'this', 'during', 'into', 'other', \"she'd\", \"wouldn't\", \"weren't\", 'until', \"you'd\", 'with', 'off', 'against', 'all', 'what', 'while', 'here', \"you're\", \"didn't\", \"i'm\", 'now', \"it'd\", 'for', 'our', 'an', 'itself', 'most', 'no', 'few', 'aren', \"she's\", 'be', 'or', 'too', 'under', 'y', 'more', 'hadn', 'about', 'were', 'a', \"you'll\", \"i'll\", 'then', 'he', \"haven't\", \"it'll\", 'does', 'needn', 'shouldn', \"mightn't\", \"it's\", 'out', 'any', \"don't\", 'down', 'not', 'me', 'whom', \"we're\", 'having', 'each', \"couldn't\", 's', 'the', 'do', \"he'd\", 'isn', 'themselves', 'your', 'yourselves', 'once', 'being', 'in', 'to', 'their', 'they', 'than', 'was', 't', 'weren', 'ours', 'own', 'hers', 'just', 'doesn', 'is', 'before', 'so', 'am', 'both', 'll', 'didn', 'won', 'again', 'are', \"she'll\", 'will', 'them', 'couldn', 'yours', 'how', 'did', 'had', 'his', \"they've\", 'herself', 'between', 'ma', 'very', 'from', 'ain', 'her', 've', \"we'll\", 'on', 'through', \"they'll\", 're', 'have', 'over', 'further', 'below', 'these', 'him', \"they'd\", 'himself', 'when', \"hadn't\", \"should've\", 'should', 'above', 'haven', 'i', 'such', 'which', \"isn't\", 'where', \"doesn't\", 'wouldn', \"i've\", \"wasn't\"}\n"
          ]
        }
      ]
    },
    {
      "cell_type": "code",
      "source": [
        "filtered_text=[]\n",
        "text= \"How to remove stop words with NLTK library in Python?\"\n",
        "text=re.sub('[^a-zA-Z]',' ',text)\n",
        "tokens=word_tokenize(text.lower())\n",
        "for word in tokens:\n",
        "  if word not in stop_words:\n",
        "    filtered_text.append(word)\n",
        "print(filtered_text)"
      ],
      "metadata": {
        "colab": {
          "base_uri": "https://localhost:8080/"
        },
        "id": "55vgeYOqjFfk",
        "outputId": "a903eb03-b7e0-42e1-acab-a6e17a7f3d6f"
      },
      "execution_count": null,
      "outputs": [
        {
          "output_type": "stream",
          "name": "stdout",
          "text": [
            "['remove', 'stop', 'words', 'nltk', 'library', 'python']\n"
          ]
        }
      ]
    },
    {
      "cell_type": "code",
      "source": [
        "#Stemming\n",
        "from nltk.stem import PorterStemmer\n",
        "words=['wait','waiting','waited','standing','sit','sitting']\n",
        "ps=PorterStemmer()\n",
        "rootword=[]\n",
        "for w in words:\n",
        "  if(ps.stem(w) not in rootword):\n",
        "    rootword.append(ps.stem(w))\n",
        "print(rootword)"
      ],
      "metadata": {
        "colab": {
          "base_uri": "https://localhost:8080/"
        },
        "id": "QQ6jkO30jcLo",
        "outputId": "5c97b755-3e49-4d65-e592-a9a36349c481"
      },
      "execution_count": null,
      "outputs": [
        {
          "output_type": "stream",
          "name": "stdout",
          "text": [
            "['wait', 'stand', 'sit']\n"
          ]
        }
      ]
    },
    {
      "cell_type": "code",
      "source": [
        "#Lemmanization\n",
        "from nltk.stem import WordNetLemmatizer\n",
        "wordnet_lemmatizer=WordNetLemmatizer()\n",
        "text = \"studies studying cries cry\"\n",
        "words=word_tokenize(text)\n",
        "rootword=[]\n",
        "for w in words:\n",
        "  if(wordnet_lemmatizer.lemmatize(w) not in rootword):\n",
        "    rootword.append(wordnet_lemmatizer.lemmatize(w))\n",
        "print(rootword)"
      ],
      "metadata": {
        "colab": {
          "base_uri": "https://localhost:8080/"
        },
        "id": "S_OFCnOZktv9",
        "outputId": "565022ce-581a-4b3a-e9fa-05e42e77c13c"
      },
      "execution_count": null,
      "outputs": [
        {
          "output_type": "stream",
          "name": "stdout",
          "text": [
            "study\n",
            "studying\n",
            "cry\n",
            "cry\n"
          ]
        }
      ]
    },
    {
      "cell_type": "code",
      "source": [
        "#POS Tagging\n",
        "data=\"The pink sweater fit her perfectly\"\n",
        "words=word_tokenize(data)\n",
        "for w in words:\n",
        "  print(nltk.pos_tag([w]))"
      ],
      "metadata": {
        "colab": {
          "base_uri": "https://localhost:8080/"
        },
        "id": "bBpgIvAUlodi",
        "outputId": "d6dbf65d-bb23-4774-cca9-68a4d5cd6400"
      },
      "execution_count": null,
      "outputs": [
        {
          "output_type": "stream",
          "name": "stdout",
          "text": [
            "[('The', 'DT')]\n",
            "[('pink', 'NN')]\n",
            "[('sweater', 'NN')]\n",
            "[('fit', 'NN')]\n",
            "[('her', 'PRP$')]\n",
            "[('perfectly', 'RB')]\n"
          ]
        }
      ]
    },
    {
      "cell_type": "code",
      "source": [
        "#TFIDF\n",
        "import pandas as pd\n",
        "from sklearn.feature_extraction.text import TfidfVectorizer"
      ],
      "metadata": {
        "id": "bFFA1p-lmxP6"
      },
      "execution_count": null,
      "outputs": []
    },
    {
      "cell_type": "code",
      "source": [
        "#Initialize documents\n",
        "documentA = 'Jupiter is the largest planet'\n",
        "documentB = 'Mars is the fourth planet from the Sun'"
      ],
      "metadata": {
        "id": "jRnvCp_5m_Tn"
      },
      "execution_count": null,
      "outputs": []
    },
    {
      "cell_type": "code",
      "source": [
        "#Create bag of words\n",
        "bagOfWordsA = documentA.split(' ')\n",
        "bagOfWordsB = documentB.split(' ')"
      ],
      "metadata": {
        "id": "t3rCRTkJnELq"
      },
      "execution_count": null,
      "outputs": []
    },
    {
      "cell_type": "code",
      "source": [
        "#Create collection of unique words from A and B\n",
        "uniqueWords = set(bagOfWordsA).union(set(bagOfWordsB))\n",
        "print(uniqueWords)"
      ],
      "metadata": {
        "colab": {
          "base_uri": "https://localhost:8080/"
        },
        "id": "BuzATL1TnTIG",
        "outputId": "45771295-aca4-4ab3-f057-ab592b5765e3"
      },
      "execution_count": null,
      "outputs": [
        {
          "output_type": "stream",
          "name": "stdout",
          "text": [
            "{'the', 'Mars', 'Jupiter', 'from', 'largest', 'fourth', 'is', 'planet', 'Sun'}\n"
          ]
        }
      ]
    },
    {
      "cell_type": "code",
      "source": [
        "#Creating Dictionary\n",
        "numOfWordsA = dict.fromkeys(uniqueWords,0)\n",
        "for w in bagOfWordsA:\n",
        "  numOfWordsA[w]+=1\n",
        "\n",
        "numOfWordsB=dict.fromkeys(uniqueWords,0)\n",
        "for w in bagOfWordsB:\n",
        "  numOfWordsB[w]+=1\n",
        "\n",
        "print(numOfWordsA)\n",
        "print(numOfWordsB)"
      ],
      "metadata": {
        "colab": {
          "base_uri": "https://localhost:8080/"
        },
        "id": "MFR3i2aCnzK6",
        "outputId": "4a20043c-bc40-4b8b-f1b0-c0d55209d414"
      },
      "execution_count": null,
      "outputs": [
        {
          "output_type": "stream",
          "name": "stdout",
          "text": [
            "{'the': 1, 'Mars': 0, 'Jupiter': 1, 'from': 0, 'largest': 1, 'fourth': 0, 'is': 1, 'planet': 1, 'Sun': 0}\n",
            "{'the': 2, 'Mars': 1, 'Jupiter': 0, 'from': 1, 'largest': 0, 'fourth': 1, 'is': 1, 'planet': 1, 'Sun': 1}\n"
          ]
        }
      ]
    },
    {
      "cell_type": "code",
      "source": [
        "#Compute TF for each document\n",
        "def computeTF(wordDict,bagOfWords):\n",
        "  tfDict={}\n",
        "  bagOfWordsCount=len(bagOfWords)\n",
        "  for word,count in wordDict.items():\n",
        "    tfDict[word]=count/float(bagOfWordsCount)\n",
        "  return tfDict\n",
        "\n",
        "tfA=computeTF(numOfWordsA,bagOfWordsA)\n",
        "tfB=computeTF(numOfWordsB,bagOfWordsB)\n",
        "\n",
        "print(tfA)\n",
        "print(tfB)"
      ],
      "metadata": {
        "colab": {
          "base_uri": "https://localhost:8080/"
        },
        "id": "HC3bLHt3o90L",
        "outputId": "b3dcf59c-a58e-402b-fc91-a56421c35a45"
      },
      "execution_count": null,
      "outputs": [
        {
          "output_type": "stream",
          "name": "stdout",
          "text": [
            "{'the': 0.2, 'Mars': 0.0, 'Jupiter': 0.2, 'from': 0.0, 'largest': 0.2, 'fourth': 0.0, 'is': 0.2, 'planet': 0.2, 'Sun': 0.0}\n",
            "{'the': 0.25, 'Mars': 0.125, 'Jupiter': 0.0, 'from': 0.125, 'largest': 0.0, 'fourth': 0.125, 'is': 0.125, 'planet': 0.125, 'Sun': 0.125}\n"
          ]
        }
      ]
    },
    {
      "cell_type": "code",
      "source": [
        "#compute IDF\n",
        "import math\n",
        "def computeIDF(documents):\n",
        "  N=len(documents)\n",
        "  idfDict={}\n",
        "\n",
        "  # Initialize the IDF dictionary with words from the first document\n",
        "  for word in documents[0].keys():\n",
        "    idfDict[word]=0\n",
        "\n",
        "  # Count how many documents contain each word\n",
        "  for document in documents:\n",
        "    for word, val in document.items():\n",
        "      if(val>0):\n",
        "        idfDict[word]+=1\n",
        "\n",
        "  # Now calculate the IDF for each word\n",
        "  for word, val in idfDict.items():\n",
        "      idfDict[word] = math.log(N / float(val)) if val > 0 else 0  # Avoid division by zero\n",
        "\n",
        "  return idfDict\n",
        "\n",
        "idf=computeIDF([numOfWordsA,numOfWordsB])\n",
        "print(idf)"
      ],
      "metadata": {
        "colab": {
          "base_uri": "https://localhost:8080/"
        },
        "id": "GIB3LP1EqXTa",
        "outputId": "4b0dbce1-9103-4c1e-d92c-0081a21a188c"
      },
      "execution_count": null,
      "outputs": [
        {
          "output_type": "stream",
          "name": "stdout",
          "text": [
            "{'the': 0.0, 'Mars': 0.6931471805599453, 'Jupiter': 0.6931471805599453, 'from': 0.6931471805599453, 'largest': 0.6931471805599453, 'fourth': 0.6931471805599453, 'is': 0.0, 'planet': 0.0, 'Sun': 0.6931471805599453}\n"
          ]
        }
      ]
    },
    {
      "cell_type": "code",
      "source": [
        "#Compute TFIDF for all words\n",
        "def computeTFIDF(tfBagOfWords, idfs):\n",
        "  tfidf = {}\n",
        "  for word, val in tfBagOfWords.items():\n",
        "    tfidf[word] = val * idfs[word]\n",
        "  return tfidf\n",
        "\n",
        "tfidfA = computeTFIDF(tfA, idf)\n",
        "tfidfB = computeTFIDF(tfB, idf)\n",
        "df = pd.DataFrame([tfidfA, tfidfB])\n",
        "df"
      ],
      "metadata": {
        "colab": {
          "base_uri": "https://localhost:8080/",
          "height": 125
        },
        "id": "kPsA_Tw7ssYX",
        "outputId": "89c52546-0fc5-4689-de17-9548982e75ef"
      },
      "execution_count": null,
      "outputs": [
        {
          "output_type": "execute_result",
          "data": {
            "text/plain": [
              "   the      Mars   Jupiter      from   largest    fourth   is  planet  \\\n",
              "0  0.0  0.000000  0.138629  0.000000  0.138629  0.000000  0.0     0.0   \n",
              "1  0.0  0.086643  0.000000  0.086643  0.000000  0.086643  0.0     0.0   \n",
              "\n",
              "        Sun  \n",
              "0  0.000000  \n",
              "1  0.086643  "
            ],
            "text/html": [
              "\n",
              "  <div id=\"df-e4fecef4-7534-411b-ac60-7593b164e5d7\" class=\"colab-df-container\">\n",
              "    <div>\n",
              "<style scoped>\n",
              "    .dataframe tbody tr th:only-of-type {\n",
              "        vertical-align: middle;\n",
              "    }\n",
              "\n",
              "    .dataframe tbody tr th {\n",
              "        vertical-align: top;\n",
              "    }\n",
              "\n",
              "    .dataframe thead th {\n",
              "        text-align: right;\n",
              "    }\n",
              "</style>\n",
              "<table border=\"1\" class=\"dataframe\">\n",
              "  <thead>\n",
              "    <tr style=\"text-align: right;\">\n",
              "      <th></th>\n",
              "      <th>the</th>\n",
              "      <th>Mars</th>\n",
              "      <th>Jupiter</th>\n",
              "      <th>from</th>\n",
              "      <th>largest</th>\n",
              "      <th>fourth</th>\n",
              "      <th>is</th>\n",
              "      <th>planet</th>\n",
              "      <th>Sun</th>\n",
              "    </tr>\n",
              "  </thead>\n",
              "  <tbody>\n",
              "    <tr>\n",
              "      <th>0</th>\n",
              "      <td>0.0</td>\n",
              "      <td>0.000000</td>\n",
              "      <td>0.138629</td>\n",
              "      <td>0.000000</td>\n",
              "      <td>0.138629</td>\n",
              "      <td>0.000000</td>\n",
              "      <td>0.0</td>\n",
              "      <td>0.0</td>\n",
              "      <td>0.000000</td>\n",
              "    </tr>\n",
              "    <tr>\n",
              "      <th>1</th>\n",
              "      <td>0.0</td>\n",
              "      <td>0.086643</td>\n",
              "      <td>0.000000</td>\n",
              "      <td>0.086643</td>\n",
              "      <td>0.000000</td>\n",
              "      <td>0.086643</td>\n",
              "      <td>0.0</td>\n",
              "      <td>0.0</td>\n",
              "      <td>0.086643</td>\n",
              "    </tr>\n",
              "  </tbody>\n",
              "</table>\n",
              "</div>\n",
              "    <div class=\"colab-df-buttons\">\n",
              "\n",
              "  <div class=\"colab-df-container\">\n",
              "    <button class=\"colab-df-convert\" onclick=\"convertToInteractive('df-e4fecef4-7534-411b-ac60-7593b164e5d7')\"\n",
              "            title=\"Convert this dataframe to an interactive table.\"\n",
              "            style=\"display:none;\">\n",
              "\n",
              "  <svg xmlns=\"http://www.w3.org/2000/svg\" height=\"24px\" viewBox=\"0 -960 960 960\">\n",
              "    <path d=\"M120-120v-720h720v720H120Zm60-500h600v-160H180v160Zm220 220h160v-160H400v160Zm0 220h160v-160H400v160ZM180-400h160v-160H180v160Zm440 0h160v-160H620v160ZM180-180h160v-160H180v160Zm440 0h160v-160H620v160Z\"/>\n",
              "  </svg>\n",
              "    </button>\n",
              "\n",
              "  <style>\n",
              "    .colab-df-container {\n",
              "      display:flex;\n",
              "      gap: 12px;\n",
              "    }\n",
              "\n",
              "    .colab-df-convert {\n",
              "      background-color: #E8F0FE;\n",
              "      border: none;\n",
              "      border-radius: 50%;\n",
              "      cursor: pointer;\n",
              "      display: none;\n",
              "      fill: #1967D2;\n",
              "      height: 32px;\n",
              "      padding: 0 0 0 0;\n",
              "      width: 32px;\n",
              "    }\n",
              "\n",
              "    .colab-df-convert:hover {\n",
              "      background-color: #E2EBFA;\n",
              "      box-shadow: 0px 1px 2px rgba(60, 64, 67, 0.3), 0px 1px 3px 1px rgba(60, 64, 67, 0.15);\n",
              "      fill: #174EA6;\n",
              "    }\n",
              "\n",
              "    .colab-df-buttons div {\n",
              "      margin-bottom: 4px;\n",
              "    }\n",
              "\n",
              "    [theme=dark] .colab-df-convert {\n",
              "      background-color: #3B4455;\n",
              "      fill: #D2E3FC;\n",
              "    }\n",
              "\n",
              "    [theme=dark] .colab-df-convert:hover {\n",
              "      background-color: #434B5C;\n",
              "      box-shadow: 0px 1px 3px 1px rgba(0, 0, 0, 0.15);\n",
              "      filter: drop-shadow(0px 1px 2px rgba(0, 0, 0, 0.3));\n",
              "      fill: #FFFFFF;\n",
              "    }\n",
              "  </style>\n",
              "\n",
              "    <script>\n",
              "      const buttonEl =\n",
              "        document.querySelector('#df-e4fecef4-7534-411b-ac60-7593b164e5d7 button.colab-df-convert');\n",
              "      buttonEl.style.display =\n",
              "        google.colab.kernel.accessAllowed ? 'block' : 'none';\n",
              "\n",
              "      async function convertToInteractive(key) {\n",
              "        const element = document.querySelector('#df-e4fecef4-7534-411b-ac60-7593b164e5d7');\n",
              "        const dataTable =\n",
              "          await google.colab.kernel.invokeFunction('convertToInteractive',\n",
              "                                                    [key], {});\n",
              "        if (!dataTable) return;\n",
              "\n",
              "        const docLinkHtml = 'Like what you see? Visit the ' +\n",
              "          '<a target=\"_blank\" href=https://colab.research.google.com/notebooks/data_table.ipynb>data table notebook</a>'\n",
              "          + ' to learn more about interactive tables.';\n",
              "        element.innerHTML = '';\n",
              "        dataTable['output_type'] = 'display_data';\n",
              "        await google.colab.output.renderOutput(dataTable, element);\n",
              "        const docLink = document.createElement('div');\n",
              "        docLink.innerHTML = docLinkHtml;\n",
              "        element.appendChild(docLink);\n",
              "      }\n",
              "    </script>\n",
              "  </div>\n",
              "\n",
              "\n",
              "    <div id=\"df-85d841b5-7532-423a-ac8a-2d6154517532\">\n",
              "      <button class=\"colab-df-quickchart\" onclick=\"quickchart('df-85d841b5-7532-423a-ac8a-2d6154517532')\"\n",
              "                title=\"Suggest charts\"\n",
              "                style=\"display:none;\">\n",
              "\n",
              "<svg xmlns=\"http://www.w3.org/2000/svg\" height=\"24px\"viewBox=\"0 0 24 24\"\n",
              "     width=\"24px\">\n",
              "    <g>\n",
              "        <path d=\"M19 3H5c-1.1 0-2 .9-2 2v14c0 1.1.9 2 2 2h14c1.1 0 2-.9 2-2V5c0-1.1-.9-2-2-2zM9 17H7v-7h2v7zm4 0h-2V7h2v10zm4 0h-2v-4h2v4z\"/>\n",
              "    </g>\n",
              "</svg>\n",
              "      </button>\n",
              "\n",
              "<style>\n",
              "  .colab-df-quickchart {\n",
              "      --bg-color: #E8F0FE;\n",
              "      --fill-color: #1967D2;\n",
              "      --hover-bg-color: #E2EBFA;\n",
              "      --hover-fill-color: #174EA6;\n",
              "      --disabled-fill-color: #AAA;\n",
              "      --disabled-bg-color: #DDD;\n",
              "  }\n",
              "\n",
              "  [theme=dark] .colab-df-quickchart {\n",
              "      --bg-color: #3B4455;\n",
              "      --fill-color: #D2E3FC;\n",
              "      --hover-bg-color: #434B5C;\n",
              "      --hover-fill-color: #FFFFFF;\n",
              "      --disabled-bg-color: #3B4455;\n",
              "      --disabled-fill-color: #666;\n",
              "  }\n",
              "\n",
              "  .colab-df-quickchart {\n",
              "    background-color: var(--bg-color);\n",
              "    border: none;\n",
              "    border-radius: 50%;\n",
              "    cursor: pointer;\n",
              "    display: none;\n",
              "    fill: var(--fill-color);\n",
              "    height: 32px;\n",
              "    padding: 0;\n",
              "    width: 32px;\n",
              "  }\n",
              "\n",
              "  .colab-df-quickchart:hover {\n",
              "    background-color: var(--hover-bg-color);\n",
              "    box-shadow: 0 1px 2px rgba(60, 64, 67, 0.3), 0 1px 3px 1px rgba(60, 64, 67, 0.15);\n",
              "    fill: var(--button-hover-fill-color);\n",
              "  }\n",
              "\n",
              "  .colab-df-quickchart-complete:disabled,\n",
              "  .colab-df-quickchart-complete:disabled:hover {\n",
              "    background-color: var(--disabled-bg-color);\n",
              "    fill: var(--disabled-fill-color);\n",
              "    box-shadow: none;\n",
              "  }\n",
              "\n",
              "  .colab-df-spinner {\n",
              "    border: 2px solid var(--fill-color);\n",
              "    border-color: transparent;\n",
              "    border-bottom-color: var(--fill-color);\n",
              "    animation:\n",
              "      spin 1s steps(1) infinite;\n",
              "  }\n",
              "\n",
              "  @keyframes spin {\n",
              "    0% {\n",
              "      border-color: transparent;\n",
              "      border-bottom-color: var(--fill-color);\n",
              "      border-left-color: var(--fill-color);\n",
              "    }\n",
              "    20% {\n",
              "      border-color: transparent;\n",
              "      border-left-color: var(--fill-color);\n",
              "      border-top-color: var(--fill-color);\n",
              "    }\n",
              "    30% {\n",
              "      border-color: transparent;\n",
              "      border-left-color: var(--fill-color);\n",
              "      border-top-color: var(--fill-color);\n",
              "      border-right-color: var(--fill-color);\n",
              "    }\n",
              "    40% {\n",
              "      border-color: transparent;\n",
              "      border-right-color: var(--fill-color);\n",
              "      border-top-color: var(--fill-color);\n",
              "    }\n",
              "    60% {\n",
              "      border-color: transparent;\n",
              "      border-right-color: var(--fill-color);\n",
              "    }\n",
              "    80% {\n",
              "      border-color: transparent;\n",
              "      border-right-color: var(--fill-color);\n",
              "      border-bottom-color: var(--fill-color);\n",
              "    }\n",
              "    90% {\n",
              "      border-color: transparent;\n",
              "      border-bottom-color: var(--fill-color);\n",
              "    }\n",
              "  }\n",
              "</style>\n",
              "\n",
              "      <script>\n",
              "        async function quickchart(key) {\n",
              "          const quickchartButtonEl =\n",
              "            document.querySelector('#' + key + ' button');\n",
              "          quickchartButtonEl.disabled = true;  // To prevent multiple clicks.\n",
              "          quickchartButtonEl.classList.add('colab-df-spinner');\n",
              "          try {\n",
              "            const charts = await google.colab.kernel.invokeFunction(\n",
              "                'suggestCharts', [key], {});\n",
              "          } catch (error) {\n",
              "            console.error('Error during call to suggestCharts:', error);\n",
              "          }\n",
              "          quickchartButtonEl.classList.remove('colab-df-spinner');\n",
              "          quickchartButtonEl.classList.add('colab-df-quickchart-complete');\n",
              "        }\n",
              "        (() => {\n",
              "          let quickchartButtonEl =\n",
              "            document.querySelector('#df-85d841b5-7532-423a-ac8a-2d6154517532 button');\n",
              "          quickchartButtonEl.style.display =\n",
              "            google.colab.kernel.accessAllowed ? 'block' : 'none';\n",
              "        })();\n",
              "      </script>\n",
              "    </div>\n",
              "\n",
              "  <div id=\"id_c9131e7d-97b3-4d84-98c5-0609c14b0217\">\n",
              "    <style>\n",
              "      .colab-df-generate {\n",
              "        background-color: #E8F0FE;\n",
              "        border: none;\n",
              "        border-radius: 50%;\n",
              "        cursor: pointer;\n",
              "        display: none;\n",
              "        fill: #1967D2;\n",
              "        height: 32px;\n",
              "        padding: 0 0 0 0;\n",
              "        width: 32px;\n",
              "      }\n",
              "\n",
              "      .colab-df-generate:hover {\n",
              "        background-color: #E2EBFA;\n",
              "        box-shadow: 0px 1px 2px rgba(60, 64, 67, 0.3), 0px 1px 3px 1px rgba(60, 64, 67, 0.15);\n",
              "        fill: #174EA6;\n",
              "      }\n",
              "\n",
              "      [theme=dark] .colab-df-generate {\n",
              "        background-color: #3B4455;\n",
              "        fill: #D2E3FC;\n",
              "      }\n",
              "\n",
              "      [theme=dark] .colab-df-generate:hover {\n",
              "        background-color: #434B5C;\n",
              "        box-shadow: 0px 1px 3px 1px rgba(0, 0, 0, 0.15);\n",
              "        filter: drop-shadow(0px 1px 2px rgba(0, 0, 0, 0.3));\n",
              "        fill: #FFFFFF;\n",
              "      }\n",
              "    </style>\n",
              "    <button class=\"colab-df-generate\" onclick=\"generateWithVariable('df')\"\n",
              "            title=\"Generate code using this dataframe.\"\n",
              "            style=\"display:none;\">\n",
              "\n",
              "  <svg xmlns=\"http://www.w3.org/2000/svg\" height=\"24px\"viewBox=\"0 0 24 24\"\n",
              "       width=\"24px\">\n",
              "    <path d=\"M7,19H8.4L18.45,9,17,7.55,7,17.6ZM5,21V16.75L18.45,3.32a2,2,0,0,1,2.83,0l1.4,1.43a1.91,1.91,0,0,1,.58,1.4,1.91,1.91,0,0,1-.58,1.4L9.25,21ZM18.45,9,17,7.55Zm-12,3A5.31,5.31,0,0,0,4.9,8.1,5.31,5.31,0,0,0,1,6.5,5.31,5.31,0,0,0,4.9,4.9,5.31,5.31,0,0,0,6.5,1,5.31,5.31,0,0,0,8.1,4.9,5.31,5.31,0,0,0,12,6.5,5.46,5.46,0,0,0,6.5,12Z\"/>\n",
              "  </svg>\n",
              "    </button>\n",
              "    <script>\n",
              "      (() => {\n",
              "      const buttonEl =\n",
              "        document.querySelector('#id_c9131e7d-97b3-4d84-98c5-0609c14b0217 button.colab-df-generate');\n",
              "      buttonEl.style.display =\n",
              "        google.colab.kernel.accessAllowed ? 'block' : 'none';\n",
              "\n",
              "      buttonEl.onclick = () => {\n",
              "        google.colab.notebook.generateWithVariable('df');\n",
              "      }\n",
              "      })();\n",
              "    </script>\n",
              "  </div>\n",
              "\n",
              "    </div>\n",
              "  </div>\n"
            ],
            "application/vnd.google.colaboratory.intrinsic+json": {
              "type": "dataframe",
              "variable_name": "df",
              "summary": "{\n  \"name\": \"df\",\n  \"rows\": 2,\n  \"fields\": [\n    {\n      \"column\": \"the\",\n      \"properties\": {\n        \"dtype\": \"number\",\n        \"std\": 0.0,\n        \"min\": 0.0,\n        \"max\": 0.0,\n        \"num_unique_values\": 1,\n        \"samples\": [\n          0.0\n        ],\n        \"semantic_type\": \"\",\n        \"description\": \"\"\n      }\n    },\n    {\n      \"column\": \"Mars\",\n      \"properties\": {\n        \"dtype\": \"number\",\n        \"std\": 0.061266133966784195,\n        \"min\": 0.0,\n        \"max\": 0.08664339756999316,\n        \"num_unique_values\": 2,\n        \"samples\": [\n          0.08664339756999316\n        ],\n        \"semantic_type\": \"\",\n        \"description\": \"\"\n      }\n    },\n    {\n      \"column\": \"Jupiter\",\n      \"properties\": {\n        \"dtype\": \"number\",\n        \"std\": 0.09802581434685471,\n        \"min\": 0.0,\n        \"max\": 0.13862943611198905,\n        \"num_unique_values\": 2,\n        \"samples\": [\n          0.0\n        ],\n        \"semantic_type\": \"\",\n        \"description\": \"\"\n      }\n    },\n    {\n      \"column\": \"from\",\n      \"properties\": {\n        \"dtype\": \"number\",\n        \"std\": 0.061266133966784195,\n        \"min\": 0.0,\n        \"max\": 0.08664339756999316,\n        \"num_unique_values\": 2,\n        \"samples\": [\n          0.08664339756999316\n        ],\n        \"semantic_type\": \"\",\n        \"description\": \"\"\n      }\n    },\n    {\n      \"column\": \"largest\",\n      \"properties\": {\n        \"dtype\": \"number\",\n        \"std\": 0.09802581434685471,\n        \"min\": 0.0,\n        \"max\": 0.13862943611198905,\n        \"num_unique_values\": 2,\n        \"samples\": [\n          0.0\n        ],\n        \"semantic_type\": \"\",\n        \"description\": \"\"\n      }\n    },\n    {\n      \"column\": \"fourth\",\n      \"properties\": {\n        \"dtype\": \"number\",\n        \"std\": 0.061266133966784195,\n        \"min\": 0.0,\n        \"max\": 0.08664339756999316,\n        \"num_unique_values\": 2,\n        \"samples\": [\n          0.08664339756999316\n        ],\n        \"semantic_type\": \"\",\n        \"description\": \"\"\n      }\n    },\n    {\n      \"column\": \"is\",\n      \"properties\": {\n        \"dtype\": \"number\",\n        \"std\": 0.0,\n        \"min\": 0.0,\n        \"max\": 0.0,\n        \"num_unique_values\": 1,\n        \"samples\": [\n          0.0\n        ],\n        \"semantic_type\": \"\",\n        \"description\": \"\"\n      }\n    },\n    {\n      \"column\": \"planet\",\n      \"properties\": {\n        \"dtype\": \"number\",\n        \"std\": 0.0,\n        \"min\": 0.0,\n        \"max\": 0.0,\n        \"num_unique_values\": 1,\n        \"samples\": [\n          0.0\n        ],\n        \"semantic_type\": \"\",\n        \"description\": \"\"\n      }\n    },\n    {\n      \"column\": \"Sun\",\n      \"properties\": {\n        \"dtype\": \"number\",\n        \"std\": 0.061266133966784195,\n        \"min\": 0.0,\n        \"max\": 0.08664339756999316,\n        \"num_unique_values\": 2,\n        \"samples\": [\n          0.08664339756999316\n        ],\n        \"semantic_type\": \"\",\n        \"description\": \"\"\n      }\n    }\n  ]\n}"
            }
          },
          "metadata": {},
          "execution_count": 48
        }
      ]
    }
  ]
}